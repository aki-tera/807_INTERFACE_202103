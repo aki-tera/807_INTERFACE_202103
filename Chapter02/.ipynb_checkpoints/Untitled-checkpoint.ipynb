{
 "cells": [
  {
   "cell_type": "code",
   "execution_count": null,
   "metadata": {},
   "outputs": [],
   "source": [
    "# ecg_with_noise.txt…高調波を含む過大なノイズが重畳した心電図データ（1ch，1kSPS）\n",
    "# ecg_relax.txt…リラックス時の心電図データ（座位にて安静時，2ch，200SPS）\n",
    "# ecg_terror.txt…ストレス時の心電図データ（座位にてホラー動画視聴時，2ch，200SPS）\n",
    "# ecg_qrs_template.csv…Matched filterアルゴリズム用テンプレート波形データ"
   ]
  }
 ],
 "metadata": {
  "kernelspec": {
   "display_name": "Python 3",
   "language": "python",
   "name": "python3"
  },
  "language_info": {
   "codemirror_mode": {
    "name": "ipython",
    "version": 3
   },
   "file_extension": ".py",
   "mimetype": "text/x-python",
   "name": "python",
   "nbconvert_exporter": "python",
   "pygments_lexer": "ipython3",
   "version": "3.8.6"
  }
 },
 "nbformat": 4,
 "nbformat_minor": 4
}
